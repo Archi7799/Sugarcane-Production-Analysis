{
 "cells": [
  {
   "cell_type": "code",
   "execution_count": null,
   "metadata": {},
   "outputs": [],
   "source": [
    "import pandas as pd \n",
    "import numpy as np\n",
    "import plotly.express as px\n",
    "import seaborn as sns\n",
    "\n",
    "df = pd.read_csv(r\"C:\\Users\\archi\\Downloads\\ListofCountriesbySugarcaneProduction.csv\")"
   ]
  },
  {
   "cell_type": "code",
   "execution_count": null,
   "metadata": {},
   "outputs": [],
   "source": [
    "df.head(15)"
   ]
  },
  {
   "cell_type": "code",
   "execution_count": null,
   "metadata": {},
   "outputs": [],
   "source": [
    "df.shape"
   ]
  },
  {
   "cell_type": "code",
   "execution_count": null,
   "metadata": {},
   "outputs": [],
   "source": [
    "df.info()"
   ]
  },
  {
   "cell_type": "markdown",
   "metadata": {},
   "source": [
    "# Data Cleaning"
   ]
  },
  {
   "cell_type": "markdown",
   "metadata": {},
   "source": [
    "format text is left , numeric is right align , col name is centre , caps\n",
    "Convert object type to integer/float type\n",
    "remove . or , point  properly in numeric\n",
    "add , correctly in production per kg \n",
    "correct the value for yield like for 8\tGuatemala\tNorth America\t33.533.403\t1.938,114\t259.85\t129.049,3, yield is wrong by decimal points so correct it.\n",
    "73\tSomalia\tAfrica\t210,62\t13873\t5,731\t36.7492   here it should be 21,062 and yield value points  so check correctly where . or , comes\n",
    "check for -ve / +ve\n",
    "Check for dupicates\n",
    "Check for null values.\n",
    "check for outlier for int / float values\n",
    "Check for country and continent format start with capital and then small.\n",
    "Check range of countries and continent of it are correct or not. \n",
    "check if data is sorted correctly\n",
    "\n",
    "\n",
    "for data visualization\n",
    "top 10 countries after grpby by countries.\n",
    "group by continent, then top 5 continent by source\n",
    "\n",
    "which country, has most production by person value"
   ]
  },
  {
   "cell_type": "code",
   "execution_count": null,
   "metadata": {},
   "outputs": [],
   "source": [
    "df.drop('Index', axis=1, inplace=True)"
   ]
  },
  {
   "cell_type": "code",
   "execution_count": null,
   "metadata": {},
   "outputs": [],
   "source": [
    "df.rename(columns=lambda x: x.upper(), inplace=True)"
   ]
  },
  {
   "cell_type": "code",
   "execution_count": null,
   "metadata": {},
   "outputs": [],
   "source": [
    "df.style.set_properties(subset=['COUNTRY' , 'CONTINENT'], text_align='left')"
   ]
  },
  {
   "cell_type": "code",
   "execution_count": null,
   "metadata": {},
   "outputs": [],
   "source": [
    "df.isna().sum()"
   ]
  },
  {
   "cell_type": "code",
   "execution_count": null,
   "metadata": {},
   "outputs": [],
   "source": [
    "duplicate_rows = df[df.duplicated()]\n",
    "print(duplicate_rows)"
   ]
  },
  {
   "cell_type": "code",
   "execution_count": null,
   "metadata": {},
   "outputs": [],
   "source": [
    "rows_with_null_acreage = df[df['ACREAGE (HECTARE)'].isnull()]\n",
    "rows_with_null_acreage"
   ]
  },
  {
   "cell_type": "code",
   "execution_count": null,
   "metadata": {},
   "outputs": [],
   "source": [
    "additional_data = df[df['COUNTRY'] == 'Djibouti']\n",
    "additional_data"
   ]
  },
  {
   "cell_type": "markdown",
   "metadata": {},
   "source": [
    "Djibouti country has only 1 data pressent, so instead of dropping this , convert NaN to 0.0 object type . Convert to int and float after dropping it and then find averge of acreage based on other countries of Africa."
   ]
  },
  {
   "cell_type": "code",
   "execution_count": null,
   "metadata": {},
   "outputs": [],
   "source": [
    "df.loc[df['COUNTRY'] == 'Djibouti', 'ACREAGE (HECTARE)'].fillna('0', inplace=True)"
   ]
  },
  {
   "cell_type": "code",
   "execution_count": null,
   "metadata": {},
   "outputs": [],
   "source": [
    "df.loc[df['COUNTRY'] == 'Djibouti', 'YIELD (KG / HECTARE)'].fillna('0', inplace=True)"
   ]
  },
  {
   "cell_type": "code",
   "execution_count": null,
   "metadata": {},
   "outputs": [],
   "source": [
    "df[df['COUNTRY'] == 'Djibouti']"
   ]
  },
  {
   "cell_type": "code",
   "execution_count": null,
   "metadata": {},
   "outputs": [],
   "source": [
    "df['PRODUCTION (TONS)'] = df['PRODUCTION (TONS)'].str.replace('.', '')\n",
    "df['PRODUCTION (TONS)'] = df['PRODUCTION (TONS)'].astype(str).astype(int)"
   ]
  },
  {
   "cell_type": "code",
   "execution_count": null,
   "metadata": {},
   "outputs": [],
   "source": [
    "df"
   ]
  },
  {
   "cell_type": "markdown",
   "metadata": {},
   "source": [
    "36,Zimbabwe,Africa,3.483.000,234563,43.5,80.069  and many more acreage is before 1 digit then it should be 43500 and not 435 , so first check after decimal how many digit if 3 simply convert other wise complete total 3 digit after decimal by adding 0."
   ]
  },
  {
   "cell_type": "code",
   "execution_count": null,
   "metadata": {},
   "outputs": [],
   "source": [
    "df['ACREAGE (HECTARE)'].fillna('0', inplace=True)"
   ]
  },
  {
   "cell_type": "code",
   "execution_count": null,
   "metadata": {},
   "outputs": [],
   "source": [
    "def convert_acreage(acreage):\n",
    "    acreage_str = str(acreage)\n",
    "    parts = acreage_str.split('.')\n",
    "    if len(parts) > 1:\n",
    "        last_decimal_part = parts[-1]\n",
    "        if len(last_decimal_part) < 3:  \n",
    "            last_decimal_part += '0' * (3 - len(last_decimal_part))  \n",
    "            parts[-1] = last_decimal_part\n",
    "            return ''.join(parts)\n",
    "        else :\n",
    "            return ''.join(parts)\n",
    "    else:\n",
    "        return acreage_str\n",
    "\n",
    "df['ACREAGE (HECTARE)'] = df['ACREAGE (HECTARE)'].apply(convert_acreage)\n"
   ]
  },
  {
   "cell_type": "code",
   "execution_count": null,
   "metadata": {},
   "outputs": [],
   "source": [
    "df['ACREAGE (HECTARE)'].dtype"
   ]
  },
  {
   "cell_type": "code",
   "execution_count": null,
   "metadata": {},
   "outputs": [],
   "source": [
    "df[df['COUNTRY']=='Zimbabwe']"
   ]
  },
  {
   "cell_type": "code",
   "execution_count": null,
   "metadata": {},
   "outputs": [],
   "source": [
    "df['ACREAGE (HECTARE)'] = df['ACREAGE (HECTARE)'].astype(str).astype(int)"
   ]
  },
  {
   "cell_type": "code",
   "execution_count": null,
   "metadata": {},
   "outputs": [],
   "source": [
    "df['ACREAGE (HECTARE)'].dtype"
   ]
  },
  {
   "cell_type": "code",
   "execution_count": null,
   "metadata": {},
   "outputs": [],
   "source": [
    "df['YIELD (KG / HECTARE)'] = df['YIELD (KG / HECTARE)'].str.replace('.', '')\n",
    "df['YIELD (KG / HECTARE)'] = df['YIELD (KG / HECTARE)'].str.replace(',', '.')"
   ]
  },
  {
   "cell_type": "code",
   "execution_count": null,
   "metadata": {},
   "outputs": [],
   "source": [
    "df"
   ]
  },
  {
   "cell_type": "code",
   "execution_count": null,
   "metadata": {},
   "outputs": [],
   "source": [
    "df['YIELD (KG / HECTARE)'].dtype"
   ]
  },
  {
   "cell_type": "code",
   "execution_count": null,
   "metadata": {},
   "outputs": [],
   "source": [
    "df['PRODUCTION PER PERSON (KG)'] = df['PRODUCTION PER PERSON (KG)'].str.replace('.', '')\n",
    "df['PRODUCTION PER PERSON (KG)'] = df['PRODUCTION PER PERSON (KG)'].astype(float)"
   ]
  },
  {
   "cell_type": "code",
   "execution_count": null,
   "metadata": {},
   "outputs": [],
   "source": [
    "df['PRODUCTION PER PERSON (KG)'].dtype"
   ]
  },
  {
   "cell_type": "code",
   "execution_count": null,
   "metadata": {},
   "outputs": [],
   "source": [
    "mean_acreage_africa = df[df['CONTINENT'] == 'Africa']['ACREAGE (HECTARE)'].mean()\n",
    "print(\"Mean acreage in Africa:\", mean_acreage_africa)"
   ]
  },
  {
   "cell_type": "code",
   "execution_count": null,
   "metadata": {},
   "outputs": [],
   "source": [
    "mode_acreage_africa = df[df['CONTINENT'] == 'Africa']['ACREAGE (HECTARE)'].mode().iloc[0]\n",
    "print(\"Mode acreage in Africa:\", mode_acreage_africa)"
   ]
  },
  {
   "cell_type": "code",
   "execution_count": null,
   "metadata": {},
   "outputs": [],
   "source": [
    "mean_acreage_africa = int(mean_acreage_africa)"
   ]
  },
  {
   "cell_type": "code",
   "execution_count": null,
   "metadata": {},
   "outputs": [],
   "source": [
    "df.loc[df['COUNTRY'] == 'Djibouti', 'ACREAGE (HECTARE)'] = mean_acreage_africa\n",
    "df.loc[df['COUNTRY'] == 'Djibouti', 'YIELD (KG / HECTARE)'] = int(df.loc[df['COUNTRY'] == 'Djibouti', 'PRODUCTION (TONS)'] / (mean_acreage_africa / 1000))"
   ]
  },
  {
   "cell_type": "code",
   "execution_count": null,
   "metadata": {},
   "outputs": [],
   "source": [
    "df.describe()"
   ]
  },
  {
   "cell_type": "markdown",
   "metadata": {},
   "source": [
    "Check whether continents and countries mentioned exists?"
   ]
  },
  {
   "cell_type": "code",
   "execution_count": null,
   "metadata": {},
   "outputs": [],
   "source": [
    "df['CONTINENT'].unique()"
   ]
  },
  {
   "cell_type": "code",
   "execution_count": null,
   "metadata": {},
   "outputs": [],
   "source": [
    "df['COUNTRY'].unique()"
   ]
  },
  {
   "cell_type": "code",
   "execution_count": null,
   "metadata": {},
   "outputs": [],
   "source": [
    "df['COUNTRY'].nunique()"
   ]
  },
  {
   "cell_type": "markdown",
   "metadata": {},
   "source": [
    "find data where any of int or float is 0"
   ]
  },
  {
   "cell_type": "code",
   "execution_count": null,
   "metadata": {},
   "outputs": [],
   "source": [
    "numeric_columns = df.select_dtypes(include=['int', 'float']).columns\n",
    "rows_with_zero_values = df[(df[numeric_columns] == 0).any(axis=1)]\n",
    "rows_with_zero_values"
   ]
  },
  {
   "cell_type": "markdown",
   "metadata": {},
   "source": [
    "Population not present so not able to find production per person."
   ]
  },
  {
   "cell_type": "code",
   "execution_count": null,
   "metadata": {},
   "outputs": [],
   "source": [
    "df.loc[df['COUNTRY'] == 'Syria', 'ACREAGE (HECTARE)'] = df.loc[df['COUNTRY'] == 'Syria','PRODUCTION (TONS)'] / df.loc[df['COUNTRY'] == 'Syria','YIELD (KG / HECTARE)']"
   ]
  },
  {
   "cell_type": "markdown",
   "metadata": {},
   "source": [
    "# Check calculation for all yield = production in kg / acreage in hectare"
   ]
  },
  {
   "cell_type": "code",
   "execution_count": null,
   "metadata": {},
   "outputs": [],
   "source": [
    "df['Calculated Yield (KG / HECTARE)'] = df['PRODUCTION (TONS)'] / (df['ACREAGE (HECTARE)'] / 1000)\n",
    " \n",
    "length = len(str(df['YIELD (KG / HECTARE)'][0]))  \n",
    "for i in range(len(df)):\n",
    "    df.loc[i, 'Yield Match'] = str(df['Calculated Yield (KG / HECTARE)'][i])[:length] == str(df['YIELD (KG / HECTARE)'][i])[:length]\n",
    "\n",
    "mismatched_df = df[df['Yield Match'] == False]\n",
    "\n",
    "print(\"Rows with mismatched yield:\")\n",
    "mismatched_df\n"
   ]
  },
  {
   "cell_type": "code",
   "execution_count": null,
   "metadata": {},
   "outputs": [],
   "source": [
    "mismatched_df.count()"
   ]
  },
  {
   "cell_type": "markdown",
   "metadata": {},
   "source": [
    "51 countries mismatches with digits after decimal points , they are round off to 2 decimal places some to 3 decimal places, so correct all mismatched values and make it to 2 decimal places for all."
   ]
  },
  {
   "cell_type": "code",
   "execution_count": null,
   "metadata": {},
   "outputs": [],
   "source": [
    "for i in mismatched_df.index:\n",
    "    df.loc[i, 'Calculated Yield (KG / HECTARE)'] = df.loc[i, 'PRODUCTION (TONS)'] / (df.loc[i, 'ACREAGE (HECTARE)'] / 1000)\n",
    "    df.loc[i, 'YIELD (KG / HECTARE)'] = round(df.loc[i, 'Calculated Yield (KG / HECTARE)'], 2)\n"
   ]
  },
  {
   "cell_type": "code",
   "execution_count": null,
   "metadata": {},
   "outputs": [],
   "source": [
    "df.drop(columns=['Calculated Yield (KG / HECTARE)' , 'Yield Match'], inplace=True)"
   ]
  },
  {
   "cell_type": "markdown",
   "metadata": {},
   "source": [
    "# Find population for all except Syria"
   ]
  },
  {
   "cell_type": "code",
   "execution_count": null,
   "metadata": {},
   "outputs": [],
   "source": [
    "df_filtered = df[df['COUNTRY'] != 'Syria'].copy()\n",
    "\n",
    "df['POPULATION'] = df_filtered['PRODUCTION (TONS)'] * 1000 / df_filtered['PRODUCTION PER PERSON (KG)']\n",
    "df.loc[df['COUNTRY'] == 'Syria', 'POPULATION'] = 0"
   ]
  },
  {
   "cell_type": "code",
   "execution_count": null,
   "metadata": {},
   "outputs": [],
   "source": [
    "df['POPULATION'].describe()"
   ]
  },
  {
   "cell_type": "markdown",
   "metadata": {},
   "source": [
    "# Checking outliers"
   ]
  },
  {
   "cell_type": "code",
   "execution_count": null,
   "metadata": {},
   "outputs": [],
   "source": [
    "check_outliers = df.select_dtypes(include=['int', 'float']).columns"
   ]
  },
  {
   "cell_type": "code",
   "execution_count": null,
   "metadata": {},
   "outputs": [],
   "source": [
    "for column in check_outliers:\n",
    "    fig = px.box(df, y=column, title=f'Box Plot of {column}', labels={'value': 'Value'})\n",
    "    fig.update_layout(showlegend=False)  # Hide legend\n",
    "    fig.show()"
   ]
  },
  {
   "cell_type": "markdown",
   "metadata": {},
   "source": [
    "# Which continent produces maximum production?\n",
    "# Do number of countries in a continent affect production of sugarcane?"
   ]
  },
  {
   "cell_type": "code",
   "execution_count": null,
   "metadata": {},
   "outputs": [],
   "source": [
    "continent_counts = df['CONTINENT'].value_counts()\n",
    "fig = px.bar(x=continent_counts.index, y=continent_counts.values)\n",
    "fig.update_layout(title='Value Counts of CONTINENT', xaxis_title='CONTINENT', yaxis_title='Count')\n",
    "fig.show()"
   ]
  },
  {
   "cell_type": "code",
   "execution_count": null,
   "metadata": {},
   "outputs": [],
   "source": [
    "continent_production = df.groupby('CONTINENT')['PRODUCTION (TONS)'].sum().reset_index(name='Total Production')\n",
    "continent_production = continent_production.sort_values(by='Total Production', ascending=False)\n",
    "\n",
    "fig = px.bar(continent_production, x='CONTINENT', y='Total Production')\n",
    "fig.update_layout(title='Production by Continent', xaxis_title='Continent', yaxis_title='Total Production')\n",
    "fig.show()"
   ]
  },
  {
   "cell_type": "markdown",
   "metadata": {},
   "source": [
    "It does not affect , Africa having more countries but less production than South America."
   ]
  },
  {
   "cell_type": "code",
   "execution_count": null,
   "metadata": {},
   "outputs": [],
   "source": [
    "fig = px.pie(continent_production, values='Total Production', names='CONTINENT', title='Production by Continent')\n",
    "fig.show()"
   ]
  },
  {
   "cell_type": "markdown",
   "metadata": {},
   "source": [
    "# Distribution of production among top 5 countries"
   ]
  },
  {
   "cell_type": "code",
   "execution_count": null,
   "metadata": {},
   "outputs": [],
   "source": [
    "df_new = df[['COUNTRY' , 'PRODUCTION (TONS)']].set_index('COUNTRY')"
   ]
  },
  {
   "cell_type": "code",
   "execution_count": null,
   "metadata": {},
   "outputs": [],
   "source": [
    "df_new['PRODUCTION (TONS) PERCENT'] = (df_new['PRODUCTION (TONS)'] * 100) / df_new['PRODUCTION (TONS)'].sum()\n",
    "top_5_countries = df_new.nlargest(5, 'PRODUCTION (TONS) PERCENT')\n",
    "\n",
    "fig = px.pie(top_5_countries, values='PRODUCTION (TONS) PERCENT',names= top_5_countries.index,  title='Top 5 Countries by Production Percentage')\n",
    "fig.show()"
   ]
  },
  {
   "cell_type": "markdown",
   "metadata": {},
   "source": [
    "# Which country has more area of land ?"
   ]
  },
  {
   "cell_type": "code",
   "execution_count": null,
   "metadata": {},
   "outputs": [],
   "source": [
    "area = df[['COUNTRY', 'ACREAGE (HECTARE)']].set_index('COUNTRY')"
   ]
  },
  {
   "cell_type": "code",
   "execution_count": null,
   "metadata": {},
   "outputs": [],
   "source": [
    "area['PRODUCTION (TONS) PERCENT'] = (area['ACREAGE (HECTARE)'] * 100) / area['ACREAGE (HECTARE)'].sum()\n",
    "top_5_countries = area.nlargest(5, 'ACREAGE (HECTARE)')\n",
    "\n",
    "fig = px.pie(top_5_countries, values='ACREAGE (HECTARE)',names= top_5_countries.index,  title='Top 5 Countries by Area')\n",
    "fig.show()"
   ]
  },
  {
   "cell_type": "markdown",
   "metadata": {},
   "source": [
    "# Which country has more population ?"
   ]
  },
  {
   "cell_type": "code",
   "execution_count": null,
   "metadata": {},
   "outputs": [],
   "source": [
    "df"
   ]
  },
  {
   "cell_type": "code",
   "execution_count": null,
   "metadata": {},
   "outputs": [],
   "source": [
    "popul = df[['COUNTRY', 'POPULATION']].set_index('COUNTRY')"
   ]
  },
  {
   "cell_type": "code",
   "execution_count": null,
   "metadata": {},
   "outputs": [],
   "source": [
    "top_5_countries = popul.nlargest(5, 'POPULATION')\n",
    "\n",
    "fig = px.pie(top_5_countries, values='POPULATION',names= top_5_countries.index,  title='Top 5 Countries by Population')\n",
    "fig.show()"
   ]
  },
  {
   "cell_type": "markdown",
   "metadata": {},
   "source": [
    "# Which county has highest yield ?"
   ]
  },
  {
   "cell_type": "code",
   "execution_count": null,
   "metadata": {},
   "outputs": [],
   "source": [
    "top_10_countries_by_yield = df.nlargest(10, 'YIELD (KG / HECTARE)')\n",
    "fig = px.bar(data_frame= top_10_countries_by_yield, x= 'COUNTRY', y= 'YIELD (KG / HECTARE)')\n",
    "fig.update_layout(title='Value Counts of Yield', xaxis_title='COUNTRY', yaxis_title='Count')\n",
    "fig.show()"
   ]
  },
  {
   "cell_type": "markdown",
   "metadata": {},
   "source": [
    "# Correlation"
   ]
  },
  {
   "cell_type": "code",
   "execution_count": null,
   "metadata": {},
   "outputs": [],
   "source": [
    "df.select_dtypes(exclude=['object']).corr()"
   ]
  },
  {
   "cell_type": "code",
   "execution_count": null,
   "metadata": {},
   "outputs": [],
   "source": [
    "sns.heatmap(df.select_dtypes(exclude=['object']).corr() , annot = True , cmap=\"Greens\")"
   ]
  },
  {
   "cell_type": "markdown",
   "metadata": {},
   "source": [
    "# Do countries with highest land produce more sugarcane ?"
   ]
  },
  {
   "cell_type": "code",
   "execution_count": null,
   "metadata": {},
   "outputs": [],
   "source": [
    "fig = px.scatter(df, x='ACREAGE (HECTARE)', y='PRODUCTION (TONS)', hover_data=['COUNTRY'], title='Production vs Acreage')\n",
    "\n",
    "fig.show()"
   ]
  },
  {
   "cell_type": "markdown",
   "metadata": {},
   "source": [
    "# Do countries with more yield more sugarcane per hectare produces more sugarcane  in total?"
   ]
  },
  {
   "cell_type": "code",
   "execution_count": null,
   "metadata": {},
   "outputs": [],
   "source": [
    "fig = px.scatter(df, x='YIELD (KG / HECTARE)', y='PRODUCTION (TONS)', hover_data=['COUNTRY'], title='Production vs Yield')\n",
    "\n",
    "fig.show()"
   ]
  }
 ],
 "metadata": {
  "kernelspec": {
   "display_name": "Python 3",
   "language": "python",
   "name": "python3"
  },
  "language_info": {
   "codemirror_mode": {
    "name": "ipython",
    "version": 3
   },
   "file_extension": ".py",
   "mimetype": "text/x-python",
   "name": "python",
   "nbconvert_exporter": "python",
   "pygments_lexer": "ipython3",
   "version": "3.10.11"
  }
 },
 "nbformat": 4,
 "nbformat_minor": 2
}
